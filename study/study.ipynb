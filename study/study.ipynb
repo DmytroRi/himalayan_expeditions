{
 "cells": [
  {
   "cell_type": "code",
   "execution_count": null,
   "id": "c86d49dd-cacf-4695-ab0b-b4e7f7f894fb",
   "metadata": {},
   "outputs": [],
   "source": []
  }
 ],
 "metadata": {
  "kernelspec": {
   "display_name": "",
   "name": ""
  },
  "language_info": {
   "name": ""
  }
 },
 "nbformat": 4,
 "nbformat_minor": 5
}
